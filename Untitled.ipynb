{
 "cells": [
  {
   "cell_type": "code",
   "execution_count": 32,
   "id": "6d4b2355",
   "metadata": {},
   "outputs": [],
   "source": [
    "import pandas as pd\n",
    "import matplotlib.pyplot as plt\n",
    "import warnings\n",
    "import seaborn as sns\n",
    "warnings.filterwarnings(\"ignore\")"
   ]
  },
  {
   "cell_type": "code",
   "execution_count": 22,
   "id": "3d7b75dc",
   "metadata": {},
   "outputs": [
    {
     "data": {
      "text/html": [
       "<div>\n",
       "<style scoped>\n",
       "    .dataframe tbody tr th:only-of-type {\n",
       "        vertical-align: middle;\n",
       "    }\n",
       "\n",
       "    .dataframe tbody tr th {\n",
       "        vertical-align: top;\n",
       "    }\n",
       "\n",
       "    .dataframe thead th {\n",
       "        text-align: right;\n",
       "    }\n",
       "</style>\n",
       "<table border=\"1\" class=\"dataframe\">\n",
       "  <thead>\n",
       "    <tr style=\"text-align: right;\">\n",
       "      <th></th>\n",
       "      <th>num_words</th>\n",
       "      <th>num_unique_words</th>\n",
       "      <th>num_stopwords</th>\n",
       "      <th>num_links</th>\n",
       "      <th>num_unique_domains</th>\n",
       "      <th>num_email_addresses</th>\n",
       "      <th>num_spelling_errors</th>\n",
       "      <th>num_urgent_keywords</th>\n",
       "      <th>label</th>\n",
       "    </tr>\n",
       "  </thead>\n",
       "  <tbody>\n",
       "    <tr>\n",
       "      <th>0</th>\n",
       "      <td>140</td>\n",
       "      <td>94</td>\n",
       "      <td>52</td>\n",
       "      <td>0</td>\n",
       "      <td>0</td>\n",
       "      <td>0</td>\n",
       "      <td>0</td>\n",
       "      <td>0</td>\n",
       "      <td>0</td>\n",
       "    </tr>\n",
       "    <tr>\n",
       "      <th>1</th>\n",
       "      <td>5</td>\n",
       "      <td>5</td>\n",
       "      <td>1</td>\n",
       "      <td>0</td>\n",
       "      <td>0</td>\n",
       "      <td>0</td>\n",
       "      <td>0</td>\n",
       "      <td>0</td>\n",
       "      <td>0</td>\n",
       "    </tr>\n",
       "    <tr>\n",
       "      <th>2</th>\n",
       "      <td>34</td>\n",
       "      <td>32</td>\n",
       "      <td>15</td>\n",
       "      <td>0</td>\n",
       "      <td>0</td>\n",
       "      <td>0</td>\n",
       "      <td>0</td>\n",
       "      <td>0</td>\n",
       "      <td>0</td>\n",
       "    </tr>\n",
       "    <tr>\n",
       "      <th>3</th>\n",
       "      <td>6</td>\n",
       "      <td>6</td>\n",
       "      <td>2</td>\n",
       "      <td>0</td>\n",
       "      <td>0</td>\n",
       "      <td>0</td>\n",
       "      <td>0</td>\n",
       "      <td>0</td>\n",
       "      <td>0</td>\n",
       "    </tr>\n",
       "    <tr>\n",
       "      <th>4</th>\n",
       "      <td>9</td>\n",
       "      <td>9</td>\n",
       "      <td>2</td>\n",
       "      <td>0</td>\n",
       "      <td>0</td>\n",
       "      <td>0</td>\n",
       "      <td>0</td>\n",
       "      <td>0</td>\n",
       "      <td>0</td>\n",
       "    </tr>\n",
       "  </tbody>\n",
       "</table>\n",
       "</div>"
      ],
      "text/plain": [
       "   num_words  num_unique_words  num_stopwords  num_links  num_unique_domains  \\\n",
       "0        140                94             52          0                   0   \n",
       "1          5                 5              1          0                   0   \n",
       "2         34                32             15          0                   0   \n",
       "3          6                 6              2          0                   0   \n",
       "4          9                 9              2          0                   0   \n",
       "\n",
       "   num_email_addresses  num_spelling_errors  num_urgent_keywords  label  \n",
       "0                    0                    0                    0      0  \n",
       "1                    0                    0                    0      0  \n",
       "2                    0                    0                    0      0  \n",
       "3                    0                    0                    0      0  \n",
       "4                    0                    0                    0      0  "
      ]
     },
     "execution_count": 22,
     "metadata": {},
     "output_type": "execute_result"
    }
   ],
   "source": [
    "df  = pd.read_csv('email_phishing_data.csv')\n",
    "df.head()"
   ]
  },
  {
   "cell_type": "code",
   "execution_count": 23,
   "id": "3d0b9d8f",
   "metadata": {},
   "outputs": [
    {
     "data": {
      "text/plain": [
       "(524846, 9)"
      ]
     },
     "execution_count": 23,
     "metadata": {},
     "output_type": "execute_result"
    }
   ],
   "source": [
    "df.shape"
   ]
  },
  {
   "cell_type": "code",
   "execution_count": 24,
   "id": "54f0ec36",
   "metadata": {},
   "outputs": [
    {
     "data": {
      "text/plain": [
       "num_words              0\n",
       "num_unique_words       0\n",
       "num_stopwords          0\n",
       "num_links              0\n",
       "num_unique_domains     0\n",
       "num_email_addresses    0\n",
       "num_spelling_errors    0\n",
       "num_urgent_keywords    0\n",
       "label                  0\n",
       "dtype: int64"
      ]
     },
     "execution_count": 24,
     "metadata": {},
     "output_type": "execute_result"
    }
   ],
   "source": [
    "df.isnull().sum()"
   ]
  },
  {
   "cell_type": "code",
   "execution_count": 25,
   "id": "a985fb9b",
   "metadata": {},
   "outputs": [
    {
     "name": "stdout",
     "output_type": "stream",
     "text": [
      "<class 'pandas.core.frame.DataFrame'>\n",
      "RangeIndex: 524846 entries, 0 to 524845\n",
      "Data columns (total 9 columns):\n",
      " #   Column               Non-Null Count   Dtype\n",
      "---  ------               --------------   -----\n",
      " 0   num_words            524846 non-null  int64\n",
      " 1   num_unique_words     524846 non-null  int64\n",
      " 2   num_stopwords        524846 non-null  int64\n",
      " 3   num_links            524846 non-null  int64\n",
      " 4   num_unique_domains   524846 non-null  int64\n",
      " 5   num_email_addresses  524846 non-null  int64\n",
      " 6   num_spelling_errors  524846 non-null  int64\n",
      " 7   num_urgent_keywords  524846 non-null  int64\n",
      " 8   label                524846 non-null  int64\n",
      "dtypes: int64(9)\n",
      "memory usage: 36.0 MB\n"
     ]
    }
   ],
   "source": [
    "df.info()"
   ]
  },
  {
   "cell_type": "code",
   "execution_count": 26,
   "id": "10c72289",
   "metadata": {},
   "outputs": [
    {
     "data": {
      "text/html": [
       "<div>\n",
       "<style scoped>\n",
       "    .dataframe tbody tr th:only-of-type {\n",
       "        vertical-align: middle;\n",
       "    }\n",
       "\n",
       "    .dataframe tbody tr th {\n",
       "        vertical-align: top;\n",
       "    }\n",
       "\n",
       "    .dataframe thead th {\n",
       "        text-align: right;\n",
       "    }\n",
       "</style>\n",
       "<table border=\"1\" class=\"dataframe\">\n",
       "  <thead>\n",
       "    <tr style=\"text-align: right;\">\n",
       "      <th></th>\n",
       "      <th>num_words</th>\n",
       "      <th>num_unique_words</th>\n",
       "      <th>num_stopwords</th>\n",
       "      <th>num_links</th>\n",
       "      <th>num_unique_domains</th>\n",
       "      <th>num_email_addresses</th>\n",
       "      <th>num_spelling_errors</th>\n",
       "      <th>num_urgent_keywords</th>\n",
       "      <th>label</th>\n",
       "    </tr>\n",
       "  </thead>\n",
       "  <tbody>\n",
       "    <tr>\n",
       "      <th>count</th>\n",
       "      <td>5.248460e+05</td>\n",
       "      <td>524846.000000</td>\n",
       "      <td>524846.000000</td>\n",
       "      <td>524846.000000</td>\n",
       "      <td>524846.000000</td>\n",
       "      <td>524846.000000</td>\n",
       "      <td>524846.000000</td>\n",
       "      <td>524846.000000</td>\n",
       "      <td>524846.000000</td>\n",
       "    </tr>\n",
       "    <tr>\n",
       "      <th>mean</th>\n",
       "      <td>2.762280e+02</td>\n",
       "      <td>123.012167</td>\n",
       "      <td>80.045465</td>\n",
       "      <td>0.895588</td>\n",
       "      <td>0.347767</td>\n",
       "      <td>2.114897</td>\n",
       "      <td>24.694731</td>\n",
       "      <td>0.245301</td>\n",
       "      <td>0.013240</td>\n",
       "    </tr>\n",
       "    <tr>\n",
       "      <th>std</th>\n",
       "      <td>3.335457e+03</td>\n",
       "      <td>201.626478</td>\n",
       "      <td>1023.330380</td>\n",
       "      <td>5.603001</td>\n",
       "      <td>1.774209</td>\n",
       "      <td>13.592682</td>\n",
       "      <td>311.312358</td>\n",
       "      <td>0.559320</td>\n",
       "      <td>0.114301</td>\n",
       "    </tr>\n",
       "    <tr>\n",
       "      <th>min</th>\n",
       "      <td>0.000000e+00</td>\n",
       "      <td>0.000000</td>\n",
       "      <td>0.000000</td>\n",
       "      <td>0.000000</td>\n",
       "      <td>0.000000</td>\n",
       "      <td>0.000000</td>\n",
       "      <td>0.000000</td>\n",
       "      <td>0.000000</td>\n",
       "      <td>0.000000</td>\n",
       "    </tr>\n",
       "    <tr>\n",
       "      <th>25%</th>\n",
       "      <td>4.700000e+01</td>\n",
       "      <td>38.000000</td>\n",
       "      <td>12.000000</td>\n",
       "      <td>0.000000</td>\n",
       "      <td>0.000000</td>\n",
       "      <td>0.000000</td>\n",
       "      <td>2.000000</td>\n",
       "      <td>0.000000</td>\n",
       "      <td>0.000000</td>\n",
       "    </tr>\n",
       "    <tr>\n",
       "      <th>50%</th>\n",
       "      <td>1.200000e+02</td>\n",
       "      <td>79.000000</td>\n",
       "      <td>34.000000</td>\n",
       "      <td>0.000000</td>\n",
       "      <td>0.000000</td>\n",
       "      <td>0.000000</td>\n",
       "      <td>8.000000</td>\n",
       "      <td>0.000000</td>\n",
       "      <td>0.000000</td>\n",
       "    </tr>\n",
       "    <tr>\n",
       "      <th>75%</th>\n",
       "      <td>2.690000e+02</td>\n",
       "      <td>145.000000</td>\n",
       "      <td>79.000000</td>\n",
       "      <td>0.000000</td>\n",
       "      <td>0.000000</td>\n",
       "      <td>1.000000</td>\n",
       "      <td>22.000000</td>\n",
       "      <td>0.000000</td>\n",
       "      <td>0.000000</td>\n",
       "    </tr>\n",
       "    <tr>\n",
       "      <th>max</th>\n",
       "      <td>2.339682e+06</td>\n",
       "      <td>51251.000000</td>\n",
       "      <td>720411.000000</td>\n",
       "      <td>824.000000</td>\n",
       "      <td>524.000000</td>\n",
       "      <td>1150.000000</td>\n",
       "      <td>190104.000000</td>\n",
       "      <td>7.000000</td>\n",
       "      <td>1.000000</td>\n",
       "    </tr>\n",
       "  </tbody>\n",
       "</table>\n",
       "</div>"
      ],
      "text/plain": [
       "          num_words  num_unique_words  num_stopwords      num_links  \\\n",
       "count  5.248460e+05     524846.000000  524846.000000  524846.000000   \n",
       "mean   2.762280e+02        123.012167      80.045465       0.895588   \n",
       "std    3.335457e+03        201.626478    1023.330380       5.603001   \n",
       "min    0.000000e+00          0.000000       0.000000       0.000000   \n",
       "25%    4.700000e+01         38.000000      12.000000       0.000000   \n",
       "50%    1.200000e+02         79.000000      34.000000       0.000000   \n",
       "75%    2.690000e+02        145.000000      79.000000       0.000000   \n",
       "max    2.339682e+06      51251.000000  720411.000000     824.000000   \n",
       "\n",
       "       num_unique_domains  num_email_addresses  num_spelling_errors  \\\n",
       "count       524846.000000        524846.000000        524846.000000   \n",
       "mean             0.347767             2.114897            24.694731   \n",
       "std              1.774209            13.592682           311.312358   \n",
       "min              0.000000             0.000000             0.000000   \n",
       "25%              0.000000             0.000000             2.000000   \n",
       "50%              0.000000             0.000000             8.000000   \n",
       "75%              0.000000             1.000000            22.000000   \n",
       "max            524.000000          1150.000000        190104.000000   \n",
       "\n",
       "       num_urgent_keywords          label  \n",
       "count        524846.000000  524846.000000  \n",
       "mean              0.245301       0.013240  \n",
       "std               0.559320       0.114301  \n",
       "min               0.000000       0.000000  \n",
       "25%               0.000000       0.000000  \n",
       "50%               0.000000       0.000000  \n",
       "75%               0.000000       0.000000  \n",
       "max               7.000000       1.000000  "
      ]
     },
     "execution_count": 26,
     "metadata": {},
     "output_type": "execute_result"
    }
   ],
   "source": [
    "df.describe()"
   ]
  },
  {
   "cell_type": "code",
   "execution_count": 27,
   "id": "ebe85d51",
   "metadata": {},
   "outputs": [
    {
     "data": {
      "image/png": "[encoded data removed]",
      "text/plain": [
       "<Figure size 792x432 with 1 Axes>"
      ]
     },
     "metadata": {},
     "output_type": "display_data"
    }
   ],
   "source": [
    "df['label'].value_counts().plot(kind='pie', autopct='%.2f', shadow=True, figsize=(11,6), colors=['steelblue', 'green'])\n",
    "plt.show()"
   ]
  },
  {
   "cell_type": "code",
   "execution_count": 36,
   "id": "adfa4f38",
   "metadata": {},
   "outputs": [
    {
     "data": {
      "image/png": "[encoded data removed]",
      "text/plain": [
       "<Figure size 720x432 with 2 Axes>"
      ]
     },
     "metadata": {
      "needs_background": "light"
     },
     "output_type": "display_data"
    }
   ],
   "source": [
    "plt.figure(figsize=(10,6))\n",
    "sns.heatmap(df.corr(), annot=True, cmap='summer')\n",
    "plt.show()"
   ]
  },
  {
   "cell_type": "code",
   "execution_count": 46,
   "id": "f312377f",
   "metadata": {},
   "outputs": [],
   "source": [
    "from sklearn.model_selection import train_test_split\n",
    "from sklearn.linear_model import LogisticRegression\n",
    "from sklearn.ensemble import RandomForestClassifier, GradientBoostingClassifier\n",
    "from sklearn.tree import DecisionTreeClassifier\n",
    "from sklearn.metrics import accuracy_score, precision_score, confusion_matrix, classification_report, f1_score, recall_score"
   ]
  },
  {
   "cell_type": "markdown",
   "id": "9e75943e",
   "metadata": {},
   "source": [
    "# Train Test Split"
   ]
  },
  {
   "cell_type": "code",
   "execution_count": 38,
   "id": "cbbd3f05",
   "metadata": {},
   "outputs": [
    {
     "name": "stdout",
     "output_type": "stream",
     "text": [
      "X_train Shape: (367392, 8)\n",
      "Y_train Shape: (367392,)\n",
      "X_test Shape: (157454, 8)\n",
      "y_test Shape: (157454,)\n"
     ]
    }
   ],
   "source": [
    "X = df.drop('label', axis=1)\n",
    "y = df['label']\n",
    "\n",
    "X_train,X_test, y_train,y_test = train_test_split(X,y , test_size=0.3)\n",
    "print(f\"X_train Shape: {X_train.shape}\")\n",
    "print(f\"Y_train Shape: {y_train.shape}\")\n",
    "print(f\"X_test Shape: {X_test.shape}\")\n",
    "print(f\"y_test Shape: {y_test.shape}\")"
   ]
  },
  {
   "cell_type": "markdown",
   "id": "80b4a8ae",
   "metadata": {},
   "source": [
    "# Logistic Regression"
   ]
  },
  {
   "cell_type": "code",
   "execution_count": 41,
   "id": "c682e879",
   "metadata": {},
   "outputs": [
    {
     "name": "stdout",
     "output_type": "stream",
     "text": [
      "Accuracy of Logistic R:  0.9867580372680275\n",
      "---------------------------------------\n",
      "[[155368      1]\n",
      " [  2084      1]]\n"
     ]
    }
   ],
   "source": [
    "logistic_r = LogisticRegression()\n",
    "logistic_r.fit(X_train, y_train)\n",
    "y_pred1 = logistic_r.predict(X_test)\n",
    "print(\"Accuracy of Logistic R: \", accuracy_score(y_test,y_pred1))\n",
    "print('---------------------------------------')\n",
    "print(confusion_matrix(y_test,y_pred1))"
   ]
  },
  {
   "cell_type": "code",
   "execution_count": 42,
   "id": "338d618b",
   "metadata": {},
   "outputs": [
    {
     "name": "stdout",
     "output_type": "stream",
     "text": [
      "Actual: \n",
      "254778    0\n",
      "63229     0\n",
      "245980    0\n",
      "199904    0\n",
      "186717    0\n",
      "Name: label, dtype: int64\n",
      "----------------------------------\n",
      "Prediction: \n",
      "[0 0 0 0 0]\n"
     ]
    }
   ],
   "source": [
    "print('Actual: ')\n",
    "print(y_test[:5])\n",
    "print('----------------------------------')\n",
    "print('Prediction: ')\n",
    "print(y_pred1[:5])"
   ]
  },
  {
   "cell_type": "markdown",
   "id": "fcb47ab7",
   "metadata": {},
   "source": [
    "# Random Forest"
   ]
  },
  {
   "cell_type": "code",
   "execution_count": 50,
   "id": "b1285663",
   "metadata": {},
   "outputs": [
    {
     "name": "stdout",
     "output_type": "stream",
     "text": [
      "Accuracy of Random F:  0.9891523873639285\n",
      "---------------------------------------\n",
      "[[155226    143]\n",
      " [  1565    520]]\n"
     ]
    }
   ],
   "source": [
    "random_f = RandomForestClassifier(n_estimators=100)\n",
    "random_f.fit(X_train, y_train)\n",
    "y_pred2 = random_f.predict(X_test)\n",
    "print(\"Accuracy of Random F: \", accuracy_score(y_test,y_pred2))\n",
    "print('---------------------------------------')\n",
    "print(confusion_matrix(y_test,y_pred2))"
   ]
  },
  {
   "cell_type": "code",
   "execution_count": 44,
   "id": "0dafe8ab",
   "metadata": {},
   "outputs": [
    {
     "name": "stdout",
     "output_type": "stream",
     "text": [
      "Actual: \n",
      "254778    0\n",
      "63229     0\n",
      "245980    0\n",
      "199904    0\n",
      "186717    0\n",
      "Name: label, dtype: int64\n",
      "----------------------------------\n",
      "Prediction: \n",
      "[0 0 0 0 0]\n"
     ]
    }
   ],
   "source": [
    "print('Actual: ')\n",
    "print(y_test[:5])\n",
    "print('----------------------------------')\n",
    "print('Prediction: ')\n",
    "print(y_pred2[:5])"
   ]
  },
  {
   "cell_type": "markdown",
   "id": "50147a0d",
   "metadata": {},
   "source": [
    "# Decision Tree"
   ]
  },
  {
   "cell_type": "code",
   "execution_count": 45,
   "id": "fb71f6ca",
   "metadata": {},
   "outputs": [
    {
     "name": "stdout",
     "output_type": "stream",
     "text": [
      "Accuracy of Random F:  0.9843763892946511\n",
      "---------------------------------------\n",
      "[[154302   1067]\n",
      " [  1393    692]]\n"
     ]
    }
   ],
   "source": [
    "decision_t = DecisionTreeClassifier()\n",
    "decision_t.fit(X_train, y_train)\n",
    "y_pred3 = decision_t.predict(X_test)\n",
    "print(\"Accuracy of Decision Tree: \", accuracy_score(y_test,y_pred3))\n",
    "print('---------------------------------------')\n",
    "print(confusion_matrix(y_test,y_pred3))"
   ]
  },
  {
   "cell_type": "code",
   "execution_count": 51,
   "id": "832b7631",
   "metadata": {},
   "outputs": [
    {
     "name": "stdout",
     "output_type": "stream",
     "text": [
      "Actual: \n",
      "254778    0\n",
      "63229     0\n",
      "245980    0\n",
      "199904    0\n",
      "186717    0\n",
      "Name: label, dtype: int64\n",
      "----------------------------------\n",
      "Prediction: \n",
      "[0 0 0 0 0]\n"
     ]
    }
   ],
   "source": [
    "print('Actual: ')\n",
    "print(y_test[:5])\n",
    "print('----------------------------------')\n",
    "print('Prediction: ')\n",
    "print(y_pred3[:5])"
   ]
  },
  {
   "cell_type": "markdown",
   "id": "7ab429e2",
   "metadata": {},
   "source": [
    "# Gradient Boosting"
   ]
  },
  {
   "cell_type": "code",
   "execution_count": 47,
   "id": "135edc3f",
   "metadata": {},
   "outputs": [
    {
     "name": "stdout",
     "output_type": "stream",
     "text": [
      "Accuracy of Gradient Boosting:  0.987012079718521\n",
      "---------------------------------------\n",
      "[[155336     33]\n",
      " [  2012     73]]\n"
     ]
    }
   ],
   "source": [
    "gbc = GradientBoostingClassifier()\n",
    "gbc.fit(X_train, y_train)\n",
    "y_pred4 = gbc.predict(X_test)\n",
    "print(\"Accuracy of Gradient Boosting: \", accuracy_score(y_test,y_pred4))\n",
    "print('---------------------------------------')\n",
    "print(confusion_matrix(y_test,y_pred4))"
   ]
  },
  {
   "cell_type": "code",
   "execution_count": 52,
   "id": "c3fb406d",
   "metadata": {},
   "outputs": [
    {
     "name": "stdout",
     "output_type": "stream",
     "text": [
      "Actual: \n",
      "254778    0\n",
      "63229     0\n",
      "245980    0\n",
      "199904    0\n",
      "186717    0\n",
      "Name: label, dtype: int64\n",
      "----------------------------------\n",
      "Prediction: \n",
      "[0 0 0 0 0]\n"
     ]
    }
   ],
   "source": [
    "print('Actual: ')\n",
    "print(y_test[:5])\n",
    "print('----------------------------------')\n",
    "print('Prediction: ')\n",
    "print(y_pred4[:5])"
   ]
  },
  {
   "cell_type": "markdown",
   "id": "4d3e3aa6",
   "metadata": {},
   "source": [
    "# Classification Reports"
   ]
  },
  {
   "cell_type": "code",
   "execution_count": 55,
   "id": "ec23bce1",
   "metadata": {},
   "outputs": [
    {
     "name": "stdout",
     "output_type": "stream",
     "text": [
      "\n",
      " ✅ Logistic Regression \n",
      "               precision    recall  f1-score   support\n",
      "\n",
      "           0       0.99      1.00      0.99    155369\n",
      "           1       0.50      0.00      0.00      2085\n",
      "\n",
      "    accuracy                           0.99    157454\n",
      "   macro avg       0.74      0.50      0.50    157454\n",
      "weighted avg       0.98      0.99      0.98    157454\n",
      "\n",
      "\n",
      "\n",
      "✅ Random Forest Classifier \n",
      "               precision    recall  f1-score   support\n",
      "\n",
      "           0       0.99      1.00      0.99    155369\n",
      "           1       0.78      0.25      0.38      2085\n",
      "\n",
      "    accuracy                           0.99    157454\n",
      "   macro avg       0.89      0.62      0.69    157454\n",
      "weighted avg       0.99      0.99      0.99    157454\n",
      "\n",
      "\n",
      "\n",
      " ✅ Gradient Boosting Classifier \n",
      "               precision    recall  f1-score   support\n",
      "\n",
      "           0       0.99      0.99      0.99    155369\n",
      "           1       0.39      0.33      0.36      2085\n",
      "\n",
      "    accuracy                           0.98    157454\n",
      "   macro avg       0.69      0.66      0.68    157454\n",
      "weighted avg       0.98      0.98      0.98    157454\n",
      "\n",
      "\n",
      "\n",
      " ✅ Decision Tree Classifier \n",
      "               precision    recall  f1-score   support\n",
      "\n",
      "           0       0.99      1.00      0.99    155369\n",
      "           1       0.69      0.04      0.07      2085\n",
      "\n",
      "    accuracy                           0.99    157454\n",
      "   macro avg       0.84      0.52      0.53    157454\n",
      "weighted avg       0.98      0.99      0.98    157454\n",
      "\n",
      "\n"
     ]
    }
   ],
   "source": [
    "logistic_report = classification_report(y_test,y_pred1)\n",
    "Random_f_report = classification_report(y_test,y_pred2)\n",
    "gradient_report = classification_report(y_test,y_pred3)\n",
    "Decision_t_report = classification_report(y_test,y_pred4)\n",
    "\n",
    "\n",
    "print('\\n ✅ Logistic Regression \\n', logistic_report)\n",
    "print()\n",
    "print('\\n✅ Random Forest Classifier \\n', Random_f_report)\n",
    "print()\n",
    "print('\\n ✅ Gradient Boosting Classifier \\n', gradient_report)\n",
    "print()\n",
    "print('\\n ✅ Decision Tree Classifier \\n', Decision_t_report)\n",
    "print()"
   ]
  },
  {
   "cell_type": "markdown",
   "id": "09c40e2b",
   "metadata": {},
   "source": [
    "# Confution Metrics Heatmap Graph"
   ]
  },
  {
   "cell_type": "code",
   "execution_count": 57,
   "id": "67b5ccf0",
   "metadata": {},
   "outputs": [
    {
     "data": {
      "image/png": "[encoded data removed]",
      "text/plain": [
       "<Figure size 1080x648 with 8 Axes>"
      ]
     },
     "metadata": {
      "needs_background": "light"
     },
     "output_type": "display_data"
    }
   ],
   "source": [
    "plt.figure(figsize=(15,9))\n",
    "plt.subplot(2,2,1)\n",
    "plt.title('Logistic Regression ',fontsize=14)\n",
    "sns.heatmap(confusion_matrix(y_test,y_pred1), annot=True, cmap='Blues')\n",
    "\n",
    "plt.subplot(2,2,2)\n",
    "plt.title('Random Forest ',fontsize=14)\n",
    "\n",
    "sns.heatmap(confusion_matrix(y_test,y_pred2), annot=True, cmap='copper')\n",
    "\n",
    "plt.subplot(2,2,3)\n",
    "plt.title('Gradiant Boosting ',fontsize=14)\n",
    "sns.heatmap(confusion_matrix(y_test,y_pred3), annot=True, cmap='summer')\n",
    "\n",
    "plt.subplot(2,2,4)\n",
    "plt.title('Decision Tree ',fontsize=14)\n",
    "sns.heatmap(confusion_matrix(y_test,y_pred4), annot=True, cmap='spring')\n",
    "plt.show()"
   ]
  },
  {
   "cell_type": "code",
   "execution_count": 62,
   "id": "083bb41f",
   "metadata": {},
   "outputs": [
    {
     "data": {
      "text/html": [
       "<div>\n",
       "<style scoped>\n",
       "    .dataframe tbody tr th:only-of-type {\n",
       "        vertical-align: middle;\n",
       "    }\n",
       "\n",
       "    .dataframe tbody tr th {\n",
       "        vertical-align: top;\n",
       "    }\n",
       "\n",
       "    .dataframe thead th {\n",
       "        text-align: right;\n",
       "    }\n",
       "</style>\n",
       "<table border=\"1\" class=\"dataframe\">\n",
       "  <thead>\n",
       "    <tr style=\"text-align: right;\">\n",
       "      <th></th>\n",
       "      <th>Algorithms</th>\n",
       "      <th>Test Accuracy</th>\n",
       "      <th>Test F1 Score</th>\n",
       "      <th>Test Precision</th>\n",
       "      <th>Test Recall</th>\n",
       "    </tr>\n",
       "  </thead>\n",
       "  <tbody>\n",
       "    <tr>\n",
       "      <th>0</th>\n",
       "      <td>Logist Regression</td>\n",
       "      <td>0.986758</td>\n",
       "      <td>0.497147</td>\n",
       "      <td>0.743382</td>\n",
       "      <td>0.500237</td>\n",
       "    </tr>\n",
       "    <tr>\n",
       "      <th>1</th>\n",
       "      <td>Random Forest</td>\n",
       "      <td>0.989152</td>\n",
       "      <td>0.686493</td>\n",
       "      <td>0.887166</td>\n",
       "      <td>0.624240</td>\n",
       "    </tr>\n",
       "    <tr>\n",
       "      <th>2</th>\n",
       "      <td>Gradiant Boosting Classifier</td>\n",
       "      <td>0.984376</td>\n",
       "      <td>0.676067</td>\n",
       "      <td>0.692229</td>\n",
       "      <td>0.662513</td>\n",
       "    </tr>\n",
       "    <tr>\n",
       "      <th>3</th>\n",
       "      <td>Decision Tree</td>\n",
       "      <td>0.987012</td>\n",
       "      <td>0.530048</td>\n",
       "      <td>0.837946</td>\n",
       "      <td>0.517400</td>\n",
       "    </tr>\n",
       "  </tbody>\n",
       "</table>\n",
       "</div>"
      ],
      "text/plain": [
       "                     Algorithms  Test Accuracy  Test F1 Score  Test Precision  \\\n",
       "0             Logist Regression       0.986758       0.497147        0.743382   \n",
       "1                 Random Forest       0.989152       0.686493        0.887166   \n",
       "2  Gradiant Boosting Classifier       0.984376       0.676067        0.692229   \n",
       "3                 Decision Tree       0.987012       0.530048        0.837946   \n",
       "\n",
       "   Test Recall  \n",
       "0     0.500237  \n",
       "1     0.624240  \n",
       "2     0.662513  \n",
       "3     0.517400  "
      ]
     },
     "execution_count": 62,
     "metadata": {},
     "output_type": "execute_result"
    }
   ],
   "source": [
    "summary = pd.DataFrame({\n",
    "    \"Algorithms\": ['Logist Regression', 'Random Forest', 'Gradiant Boosting Classifier', 'Decision Tree'],\n",
    "    'Test Accuracy': [accuracy_score(y_test,y_pred1), accuracy_score(y_test,y_pred2), accuracy_score(y_test,y_pred3),\n",
    "                     accuracy_score(y_test,y_pred4)],\n",
    "    'Test F1 Score':[f1_score(y_test,y_pred1, average='macro'), f1_score(y_test,y_pred2, average='macro'),\n",
    "                    f1_score(y_test,y_pred3, average='macro'), f1_score(y_test,y_pred4, average='macro')],\n",
    "    'Test Precision':[precision_score(y_test,y_pred1, average='macro'), precision_score(y_test,y_pred2, average='macro'),\n",
    "                     precision_score(y_test,y_pred3, average='macro'), precision_score(y_test,y_pred4, average='macro')],\n",
    "    'Test Recall': [recall_score(y_test,y_pred1, average='macro'), recall_score(y_test,y_pred2, average='macro'),\n",
    "                   recall_score(y_test,y_pred3, average='macro'), recall_score(y_test,y_pred4, average='macro')]\n",
    "})\n",
    "summary\n"
   ]
  },
  {
   "cell_type": "code",
   "execution_count": 67,
   "id": "51009a79",
   "metadata": {},
   "outputs": [
    {
     "data": {
      "image/png": "[encoded data removed]",
      "text/plain": [
       "<Figure size 864x432 with 1 Axes>"
      ]
     },
     "metadata": {
      "needs_background": "light"
     },
     "output_type": "display_data"
    }
   ],
   "source": [
    "df_melted = result.melt(id_vars='Algorithms', var_name='Metric', value_name='Score')\n",
    "\n",
    "plt.figure(figsize=(12, 6))\n",
    "sns.barplot(data=df_melted, x='Algorithms', y='Score', hue='Metric', palette='coolwarm')\n",
    "\n",
    "plt.xticks(rotation=20)\n",
    "plt.title('Performance of Classification Algorithms', fontsize=14)\n",
    "plt.grid()\n",
    "plt.show()"
   ]
  },
  {
   "cell_type": "code",
   "execution_count": null,
   "id": "3854776d",
   "metadata": {},
   "outputs": [],
   "source": []
  }
 ],
 "metadata": {
  "kernelspec": {
   "display_name": "Python 3 (ipykernel)",
   "language": "python",
   "name": "python3"
  },
  "language_info": {
   "codemirror_mode": {
    "name": "ipython",
    "version": 3
   },
   "file_extension": ".py",
   "mimetype": "text/x-python",
   "name": "python",
   "nbconvert_exporter": "python",
   "pygments_lexer": "ipython3",
   "version": "3.9.12"
  }
 },
 "nbformat": 4,
 "nbformat_minor": 5
}
